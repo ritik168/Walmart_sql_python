{
 "cells": [
  {
   "cell_type": "markdown",
   "id": "85786ab5-d017-475c-9496-fcb1ce0ea6d3",
   "metadata": {},
   "source": [
    "# Data Exploaration and Loadings"
   ]
  },
  {
   "cell_type": "code",
   "execution_count": 1,
   "id": "86b8328e-e703-449c-8913-1e5f583ffc1e",
   "metadata": {},
   "outputs": [],
   "source": [
    "import pandas as pd\n",
    "import matplotlib.pyplot as plt \n",
    "import numpy as np\n",
    "import seaborn as sns \n",
    "import warnings \n",
    "warnings.filterwarnings('ignore')\n",
    "import plotly.express as ex"
   ]
  },
  {
   "cell_type": "code",
   "execution_count": 2,
   "id": "d4268f5a-b634-41b2-b8cb-54757650f289",
   "metadata": {},
   "outputs": [
    {
     "name": "stdout",
     "output_type": "stream",
     "text": [
      "      invoice_id   Branch         City                category unit_price  \\\n",
      "0              1  WALM003  San Antonio       Health and beauty     $74.69   \n",
      "1              2  WALM048    Harlingen  Electronic accessories     $15.28   \n",
      "2              3  WALM067  Haltom City      Home and lifestyle     $46.33   \n",
      "3              4  WALM064      Bedford       Health and beauty     $58.22   \n",
      "4              5  WALM013       Irving       Sports and travel     $86.31   \n",
      "...          ...      ...          ...                     ...        ...   \n",
      "9964        9996  WALM056      Rowlett     Fashion accessories        $37   \n",
      "9965        9997  WALM030   Richardson      Home and lifestyle        $58   \n",
      "9966        9998  WALM050     Victoria     Fashion accessories        $52   \n",
      "9967        9999  WALM032        Tyler      Home and lifestyle        $79   \n",
      "9968       10000  WALM069     Rockwall     Fashion accessories        $62   \n",
      "\n",
      "      quantity      date      time payment_method  rating  profit_margin  \n",
      "0          7.0  05/01/19  13:08:00        Ewallet     9.1           0.48  \n",
      "1          5.0  08/03/19  10:29:00           Cash     9.6           0.48  \n",
      "2          7.0  03/03/19  13:23:00    Credit card     7.4           0.33  \n",
      "3          8.0  27/01/19  20:33:00        Ewallet     8.4           0.33  \n",
      "4          7.0  08/02/19  10:37:00        Ewallet     5.3           0.48  \n",
      "...        ...       ...       ...            ...     ...            ...  \n",
      "9964       3.0  03/08/23  10:10:00           Cash     3.0           0.33  \n",
      "9965       2.0  22/02/21  14:20:00           Cash     7.0           0.48  \n",
      "9966       3.0  15/06/23  16:00:00    Credit card     4.0           0.48  \n",
      "9967       2.0  25/02/21  12:25:00           Cash     7.0           0.48  \n",
      "9968       3.0  26/09/20   9:48:00           Cash     3.0           0.33  \n",
      "\n",
      "[9969 rows x 11 columns]\n"
     ]
    }
   ],
   "source": [
    "data=pd.read_csv(\"C:/Users/sachi/Downloads/walmart_clean_data.csv\")\n",
    "print(data)"
   ]
  },
  {
   "cell_type": "markdown",
   "id": "20f95792-ccab-4752-a427-2fb39238a23f",
   "metadata": {},
   "source": [
    "# Now we do the data cleanings."
   ]
  },
  {
   "cell_type": "code",
   "execution_count": 5,
   "id": "733398e2-7ae9-49cc-861a-68583379c3f7",
   "metadata": {},
   "outputs": [
    {
     "name": "stdout",
     "output_type": "stream",
     "text": [
      "      invoice_id   Branch         City                category unit_price  \\\n",
      "0              1  WALM003  San Antonio       Health and beauty     $74.69   \n",
      "1              2  WALM048    Harlingen  Electronic accessories     $15.28   \n",
      "2              3  WALM067  Haltom City      Home and lifestyle     $46.33   \n",
      "3              4  WALM064      Bedford       Health and beauty     $58.22   \n",
      "4              5  WALM013       Irving       Sports and travel     $86.31   \n",
      "...          ...      ...          ...                     ...        ...   \n",
      "9964        9996  WALM056      Rowlett     Fashion accessories        $37   \n",
      "9965        9997  WALM030   Richardson      Home and lifestyle        $58   \n",
      "9966        9998  WALM050     Victoria     Fashion accessories        $52   \n",
      "9967        9999  WALM032        Tyler      Home and lifestyle        $79   \n",
      "9968       10000  WALM069     Rockwall     Fashion accessories        $62   \n",
      "\n",
      "      quantity      date      time payment_method  rating  profit_margin  \n",
      "0          7.0  05/01/19  13:08:00        Ewallet     9.1           0.48  \n",
      "1          5.0  08/03/19  10:29:00           Cash     9.6           0.48  \n",
      "2          7.0  03/03/19  13:23:00    Credit card     7.4           0.33  \n",
      "3          8.0  27/01/19  20:33:00        Ewallet     8.4           0.33  \n",
      "4          7.0  08/02/19  10:37:00        Ewallet     5.3           0.48  \n",
      "...        ...       ...       ...            ...     ...            ...  \n",
      "9964       3.0  03/08/23  10:10:00           Cash     3.0           0.33  \n",
      "9965       2.0  22/02/21  14:20:00           Cash     7.0           0.48  \n",
      "9966       3.0  15/06/23  16:00:00    Credit card     4.0           0.48  \n",
      "9967       2.0  25/02/21  12:25:00           Cash     7.0           0.48  \n",
      "9968       3.0  26/09/20   9:48:00           Cash     3.0           0.33  \n",
      "\n",
      "[9969 rows x 11 columns]\n"
     ]
    }
   ],
   "source": [
    "df=pd.DataFrame(data)\n",
    "print(data)"
   ]
  },
  {
   "cell_type": "code",
   "execution_count": 7,
   "id": "56723b14-3565-4e18-9725-f9ba00c78ec2",
   "metadata": {},
   "outputs": [
    {
     "data": {
      "text/plain": [
       "<bound method DataFrame.info of       invoice_id   Branch         City                category unit_price  \\\n",
       "0              1  WALM003  San Antonio       Health and beauty     $74.69   \n",
       "1              2  WALM048    Harlingen  Electronic accessories     $15.28   \n",
       "2              3  WALM067  Haltom City      Home and lifestyle     $46.33   \n",
       "3              4  WALM064      Bedford       Health and beauty     $58.22   \n",
       "4              5  WALM013       Irving       Sports and travel     $86.31   \n",
       "...          ...      ...          ...                     ...        ...   \n",
       "9964        9996  WALM056      Rowlett     Fashion accessories        $37   \n",
       "9965        9997  WALM030   Richardson      Home and lifestyle        $58   \n",
       "9966        9998  WALM050     Victoria     Fashion accessories        $52   \n",
       "9967        9999  WALM032        Tyler      Home and lifestyle        $79   \n",
       "9968       10000  WALM069     Rockwall     Fashion accessories        $62   \n",
       "\n",
       "      quantity      date      time payment_method  rating  profit_margin  \n",
       "0          7.0  05/01/19  13:08:00        Ewallet     9.1           0.48  \n",
       "1          5.0  08/03/19  10:29:00           Cash     9.6           0.48  \n",
       "2          7.0  03/03/19  13:23:00    Credit card     7.4           0.33  \n",
       "3          8.0  27/01/19  20:33:00        Ewallet     8.4           0.33  \n",
       "4          7.0  08/02/19  10:37:00        Ewallet     5.3           0.48  \n",
       "...        ...       ...       ...            ...     ...            ...  \n",
       "9964       3.0  03/08/23  10:10:00           Cash     3.0           0.33  \n",
       "9965       2.0  22/02/21  14:20:00           Cash     7.0           0.48  \n",
       "9966       3.0  15/06/23  16:00:00    Credit card     4.0           0.48  \n",
       "9967       2.0  25/02/21  12:25:00           Cash     7.0           0.48  \n",
       "9968       3.0  26/09/20   9:48:00           Cash     3.0           0.33  \n",
       "\n",
       "[9969 rows x 11 columns]>"
      ]
     },
     "execution_count": 7,
     "metadata": {},
     "output_type": "execute_result"
    }
   ],
   "source": [
    "df.info"
   ]
  },
  {
   "cell_type": "code",
   "execution_count": 8,
   "id": "752f05b7-bc8b-4c5a-99ae-b2443a0ff9ba",
   "metadata": {},
   "outputs": [
    {
     "name": "stdout",
     "output_type": "stream",
     "text": [
      "<class 'pandas.core.frame.DataFrame'>\n",
      "RangeIndex: 9969 entries, 0 to 9968\n",
      "Data columns (total 11 columns):\n",
      " #   Column          Non-Null Count  Dtype  \n",
      "---  ------          --------------  -----  \n",
      " 0   invoice_id      9969 non-null   int64  \n",
      " 1   Branch          9969 non-null   object \n",
      " 2   City            9969 non-null   object \n",
      " 3   category        9969 non-null   object \n",
      " 4   unit_price      9969 non-null   object \n",
      " 5   quantity        9969 non-null   float64\n",
      " 6   date            9969 non-null   object \n",
      " 7   time            9969 non-null   object \n",
      " 8   payment_method  9969 non-null   object \n",
      " 9   rating          9969 non-null   float64\n",
      " 10  profit_margin   9969 non-null   float64\n",
      "dtypes: float64(3), int64(1), object(7)\n",
      "memory usage: 856.8+ KB\n"
     ]
    }
   ],
   "source": [
    "df.info()"
   ]
  },
  {
   "cell_type": "code",
   "execution_count": 9,
   "id": "bcd6aef3-aaf1-4347-92c3-150e104b0203",
   "metadata": {},
   "outputs": [
    {
     "data": {
      "text/html": [
       "<div>\n",
       "<style scoped>\n",
       "    .dataframe tbody tr th:only-of-type {\n",
       "        vertical-align: middle;\n",
       "    }\n",
       "\n",
       "    .dataframe tbody tr th {\n",
       "        vertical-align: top;\n",
       "    }\n",
       "\n",
       "    .dataframe thead th {\n",
       "        text-align: right;\n",
       "    }\n",
       "</style>\n",
       "<table border=\"1\" class=\"dataframe\">\n",
       "  <thead>\n",
       "    <tr style=\"text-align: right;\">\n",
       "      <th></th>\n",
       "      <th>invoice_id</th>\n",
       "      <th>quantity</th>\n",
       "      <th>rating</th>\n",
       "      <th>profit_margin</th>\n",
       "    </tr>\n",
       "  </thead>\n",
       "  <tbody>\n",
       "    <tr>\n",
       "      <th>count</th>\n",
       "      <td>9969.000000</td>\n",
       "      <td>9969.000000</td>\n",
       "      <td>9969.000000</td>\n",
       "      <td>9969.000000</td>\n",
       "    </tr>\n",
       "    <tr>\n",
       "      <th>mean</th>\n",
       "      <td>5010.116561</td>\n",
       "      <td>2.355602</td>\n",
       "      <td>5.828839</td>\n",
       "      <td>0.393744</td>\n",
       "    </tr>\n",
       "    <tr>\n",
       "      <th>std</th>\n",
       "      <td>2886.217349</td>\n",
       "      <td>1.605455</td>\n",
       "      <td>1.763723</td>\n",
       "      <td>0.090659</td>\n",
       "    </tr>\n",
       "    <tr>\n",
       "      <th>min</th>\n",
       "      <td>1.000000</td>\n",
       "      <td>1.000000</td>\n",
       "      <td>3.000000</td>\n",
       "      <td>0.180000</td>\n",
       "    </tr>\n",
       "    <tr>\n",
       "      <th>25%</th>\n",
       "      <td>2524.000000</td>\n",
       "      <td>1.000000</td>\n",
       "      <td>4.000000</td>\n",
       "      <td>0.330000</td>\n",
       "    </tr>\n",
       "    <tr>\n",
       "      <th>50%</th>\n",
       "      <td>5016.000000</td>\n",
       "      <td>2.000000</td>\n",
       "      <td>6.000000</td>\n",
       "      <td>0.330000</td>\n",
       "    </tr>\n",
       "    <tr>\n",
       "      <th>75%</th>\n",
       "      <td>7508.000000</td>\n",
       "      <td>3.000000</td>\n",
       "      <td>7.000000</td>\n",
       "      <td>0.480000</td>\n",
       "    </tr>\n",
       "    <tr>\n",
       "      <th>max</th>\n",
       "      <td>10000.000000</td>\n",
       "      <td>10.000000</td>\n",
       "      <td>10.000000</td>\n",
       "      <td>0.570000</td>\n",
       "    </tr>\n",
       "  </tbody>\n",
       "</table>\n",
       "</div>"
      ],
      "text/plain": [
       "         invoice_id     quantity       rating  profit_margin\n",
       "count   9969.000000  9969.000000  9969.000000    9969.000000\n",
       "mean    5010.116561     2.355602     5.828839       0.393744\n",
       "std     2886.217349     1.605455     1.763723       0.090659\n",
       "min        1.000000     1.000000     3.000000       0.180000\n",
       "25%     2524.000000     1.000000     4.000000       0.330000\n",
       "50%     5016.000000     2.000000     6.000000       0.330000\n",
       "75%     7508.000000     3.000000     7.000000       0.480000\n",
       "max    10000.000000    10.000000    10.000000       0.570000"
      ]
     },
     "execution_count": 9,
     "metadata": {},
     "output_type": "execute_result"
    }
   ],
   "source": [
    "df.describe()"
   ]
  },
  {
   "cell_type": "code",
   "execution_count": 10,
   "id": "d77fa3b5-c167-43e5-9c3a-2fdaa0b44707",
   "metadata": {},
   "outputs": [
    {
     "data": {
      "text/html": [
       "<div>\n",
       "<style scoped>\n",
       "    .dataframe tbody tr th:only-of-type {\n",
       "        vertical-align: middle;\n",
       "    }\n",
       "\n",
       "    .dataframe tbody tr th {\n",
       "        vertical-align: top;\n",
       "    }\n",
       "\n",
       "    .dataframe thead th {\n",
       "        text-align: right;\n",
       "    }\n",
       "</style>\n",
       "<table border=\"1\" class=\"dataframe\">\n",
       "  <thead>\n",
       "    <tr style=\"text-align: right;\">\n",
       "      <th></th>\n",
       "      <th>invoice_id</th>\n",
       "      <th>Branch</th>\n",
       "      <th>City</th>\n",
       "      <th>category</th>\n",
       "      <th>unit_price</th>\n",
       "      <th>quantity</th>\n",
       "      <th>date</th>\n",
       "      <th>time</th>\n",
       "      <th>payment_method</th>\n",
       "      <th>rating</th>\n",
       "      <th>profit_margin</th>\n",
       "    </tr>\n",
       "  </thead>\n",
       "  <tbody>\n",
       "    <tr>\n",
       "      <th>0</th>\n",
       "      <td>False</td>\n",
       "      <td>False</td>\n",
       "      <td>False</td>\n",
       "      <td>False</td>\n",
       "      <td>False</td>\n",
       "      <td>False</td>\n",
       "      <td>False</td>\n",
       "      <td>False</td>\n",
       "      <td>False</td>\n",
       "      <td>False</td>\n",
       "      <td>False</td>\n",
       "    </tr>\n",
       "    <tr>\n",
       "      <th>1</th>\n",
       "      <td>False</td>\n",
       "      <td>False</td>\n",
       "      <td>False</td>\n",
       "      <td>False</td>\n",
       "      <td>False</td>\n",
       "      <td>False</td>\n",
       "      <td>False</td>\n",
       "      <td>False</td>\n",
       "      <td>False</td>\n",
       "      <td>False</td>\n",
       "      <td>False</td>\n",
       "    </tr>\n",
       "    <tr>\n",
       "      <th>2</th>\n",
       "      <td>False</td>\n",
       "      <td>False</td>\n",
       "      <td>False</td>\n",
       "      <td>False</td>\n",
       "      <td>False</td>\n",
       "      <td>False</td>\n",
       "      <td>False</td>\n",
       "      <td>False</td>\n",
       "      <td>False</td>\n",
       "      <td>False</td>\n",
       "      <td>False</td>\n",
       "    </tr>\n",
       "    <tr>\n",
       "      <th>3</th>\n",
       "      <td>False</td>\n",
       "      <td>False</td>\n",
       "      <td>False</td>\n",
       "      <td>False</td>\n",
       "      <td>False</td>\n",
       "      <td>False</td>\n",
       "      <td>False</td>\n",
       "      <td>False</td>\n",
       "      <td>False</td>\n",
       "      <td>False</td>\n",
       "      <td>False</td>\n",
       "    </tr>\n",
       "    <tr>\n",
       "      <th>4</th>\n",
       "      <td>False</td>\n",
       "      <td>False</td>\n",
       "      <td>False</td>\n",
       "      <td>False</td>\n",
       "      <td>False</td>\n",
       "      <td>False</td>\n",
       "      <td>False</td>\n",
       "      <td>False</td>\n",
       "      <td>False</td>\n",
       "      <td>False</td>\n",
       "      <td>False</td>\n",
       "    </tr>\n",
       "    <tr>\n",
       "      <th>...</th>\n",
       "      <td>...</td>\n",
       "      <td>...</td>\n",
       "      <td>...</td>\n",
       "      <td>...</td>\n",
       "      <td>...</td>\n",
       "      <td>...</td>\n",
       "      <td>...</td>\n",
       "      <td>...</td>\n",
       "      <td>...</td>\n",
       "      <td>...</td>\n",
       "      <td>...</td>\n",
       "    </tr>\n",
       "    <tr>\n",
       "      <th>9964</th>\n",
       "      <td>False</td>\n",
       "      <td>False</td>\n",
       "      <td>False</td>\n",
       "      <td>False</td>\n",
       "      <td>False</td>\n",
       "      <td>False</td>\n",
       "      <td>False</td>\n",
       "      <td>False</td>\n",
       "      <td>False</td>\n",
       "      <td>False</td>\n",
       "      <td>False</td>\n",
       "    </tr>\n",
       "    <tr>\n",
       "      <th>9965</th>\n",
       "      <td>False</td>\n",
       "      <td>False</td>\n",
       "      <td>False</td>\n",
       "      <td>False</td>\n",
       "      <td>False</td>\n",
       "      <td>False</td>\n",
       "      <td>False</td>\n",
       "      <td>False</td>\n",
       "      <td>False</td>\n",
       "      <td>False</td>\n",
       "      <td>False</td>\n",
       "    </tr>\n",
       "    <tr>\n",
       "      <th>9966</th>\n",
       "      <td>False</td>\n",
       "      <td>False</td>\n",
       "      <td>False</td>\n",
       "      <td>False</td>\n",
       "      <td>False</td>\n",
       "      <td>False</td>\n",
       "      <td>False</td>\n",
       "      <td>False</td>\n",
       "      <td>False</td>\n",
       "      <td>False</td>\n",
       "      <td>False</td>\n",
       "    </tr>\n",
       "    <tr>\n",
       "      <th>9967</th>\n",
       "      <td>False</td>\n",
       "      <td>False</td>\n",
       "      <td>False</td>\n",
       "      <td>False</td>\n",
       "      <td>False</td>\n",
       "      <td>False</td>\n",
       "      <td>False</td>\n",
       "      <td>False</td>\n",
       "      <td>False</td>\n",
       "      <td>False</td>\n",
       "      <td>False</td>\n",
       "    </tr>\n",
       "    <tr>\n",
       "      <th>9968</th>\n",
       "      <td>False</td>\n",
       "      <td>False</td>\n",
       "      <td>False</td>\n",
       "      <td>False</td>\n",
       "      <td>False</td>\n",
       "      <td>False</td>\n",
       "      <td>False</td>\n",
       "      <td>False</td>\n",
       "      <td>False</td>\n",
       "      <td>False</td>\n",
       "      <td>False</td>\n",
       "    </tr>\n",
       "  </tbody>\n",
       "</table>\n",
       "<p>9969 rows × 11 columns</p>\n",
       "</div>"
      ],
      "text/plain": [
       "      invoice_id  Branch   City  category  unit_price  quantity   date   time  \\\n",
       "0          False   False  False     False       False     False  False  False   \n",
       "1          False   False  False     False       False     False  False  False   \n",
       "2          False   False  False     False       False     False  False  False   \n",
       "3          False   False  False     False       False     False  False  False   \n",
       "4          False   False  False     False       False     False  False  False   \n",
       "...          ...     ...    ...       ...         ...       ...    ...    ...   \n",
       "9964       False   False  False     False       False     False  False  False   \n",
       "9965       False   False  False     False       False     False  False  False   \n",
       "9966       False   False  False     False       False     False  False  False   \n",
       "9967       False   False  False     False       False     False  False  False   \n",
       "9968       False   False  False     False       False     False  False  False   \n",
       "\n",
       "      payment_method  rating  profit_margin  \n",
       "0              False   False          False  \n",
       "1              False   False          False  \n",
       "2              False   False          False  \n",
       "3              False   False          False  \n",
       "4              False   False          False  \n",
       "...              ...     ...            ...  \n",
       "9964           False   False          False  \n",
       "9965           False   False          False  \n",
       "9966           False   False          False  \n",
       "9967           False   False          False  \n",
       "9968           False   False          False  \n",
       "\n",
       "[9969 rows x 11 columns]"
      ]
     },
     "execution_count": 10,
     "metadata": {},
     "output_type": "execute_result"
    }
   ],
   "source": [
    "df.isnull()"
   ]
  },
  {
   "cell_type": "code",
   "execution_count": 11,
   "id": "82664aac-ecf2-4e39-837a-ffbd16d707e3",
   "metadata": {},
   "outputs": [
    {
     "data": {
      "text/plain": [
       "<bound method DataFrame.isnull of       invoice_id   Branch         City                category unit_price  \\\n",
       "0              1  WALM003  San Antonio       Health and beauty     $74.69   \n",
       "1              2  WALM048    Harlingen  Electronic accessories     $15.28   \n",
       "2              3  WALM067  Haltom City      Home and lifestyle     $46.33   \n",
       "3              4  WALM064      Bedford       Health and beauty     $58.22   \n",
       "4              5  WALM013       Irving       Sports and travel     $86.31   \n",
       "...          ...      ...          ...                     ...        ...   \n",
       "9964        9996  WALM056      Rowlett     Fashion accessories        $37   \n",
       "9965        9997  WALM030   Richardson      Home and lifestyle        $58   \n",
       "9966        9998  WALM050     Victoria     Fashion accessories        $52   \n",
       "9967        9999  WALM032        Tyler      Home and lifestyle        $79   \n",
       "9968       10000  WALM069     Rockwall     Fashion accessories        $62   \n",
       "\n",
       "      quantity      date      time payment_method  rating  profit_margin  \n",
       "0          7.0  05/01/19  13:08:00        Ewallet     9.1           0.48  \n",
       "1          5.0  08/03/19  10:29:00           Cash     9.6           0.48  \n",
       "2          7.0  03/03/19  13:23:00    Credit card     7.4           0.33  \n",
       "3          8.0  27/01/19  20:33:00        Ewallet     8.4           0.33  \n",
       "4          7.0  08/02/19  10:37:00        Ewallet     5.3           0.48  \n",
       "...        ...       ...       ...            ...     ...            ...  \n",
       "9964       3.0  03/08/23  10:10:00           Cash     3.0           0.33  \n",
       "9965       2.0  22/02/21  14:20:00           Cash     7.0           0.48  \n",
       "9966       3.0  15/06/23  16:00:00    Credit card     4.0           0.48  \n",
       "9967       2.0  25/02/21  12:25:00           Cash     7.0           0.48  \n",
       "9968       3.0  26/09/20   9:48:00           Cash     3.0           0.33  \n",
       "\n",
       "[9969 rows x 11 columns]>"
      ]
     },
     "execution_count": 11,
     "metadata": {},
     "output_type": "execute_result"
    }
   ],
   "source": [
    "df.isnull"
   ]
  },
  {
   "cell_type": "code",
   "execution_count": 12,
   "id": "43038e86-6a69-4bda-95e4-e741c64d38de",
   "metadata": {},
   "outputs": [
    {
     "data": {
      "text/plain": [
       "invoice_id          int64\n",
       "Branch             object\n",
       "City               object\n",
       "category           object\n",
       "unit_price         object\n",
       "quantity          float64\n",
       "date               object\n",
       "time               object\n",
       "payment_method     object\n",
       "rating            float64\n",
       "profit_margin     float64\n",
       "dtype: object"
      ]
     },
     "execution_count": 12,
     "metadata": {},
     "output_type": "execute_result"
    }
   ],
   "source": [
    "df.dtypes"
   ]
  },
  {
   "cell_type": "code",
   "execution_count": 13,
   "id": "e5743fdf-d502-43cf-ade9-996684c552ec",
   "metadata": {},
   "outputs": [
    {
     "data": {
      "text/plain": [
       "invoice_id        9969\n",
       "Branch             100\n",
       "City                98\n",
       "category             6\n",
       "unit_price        1008\n",
       "quantity            10\n",
       "date              1460\n",
       "time              1001\n",
       "payment_method       3\n",
       "rating              62\n",
       "profit_margin        6\n",
       "dtype: int64"
      ]
     },
     "execution_count": 13,
     "metadata": {},
     "output_type": "execute_result"
    }
   ],
   "source": [
    "df.nunique()"
   ]
  },
  {
   "cell_type": "code",
   "execution_count": 17,
   "id": "755ce7a5-07ec-4ea4-b3b1-14bc4b8339ef",
   "metadata": {},
   "outputs": [
    {
     "data": {
      "text/plain": [
       "0       False\n",
       "1       False\n",
       "2       False\n",
       "3       False\n",
       "4       False\n",
       "        ...  \n",
       "9964    False\n",
       "9965    False\n",
       "9966    False\n",
       "9967    False\n",
       "9968    False\n",
       "Length: 9969, dtype: bool"
      ]
     },
     "execution_count": 17,
     "metadata": {},
     "output_type": "execute_result"
    }
   ],
   "source": [
    "# all duplicates\n",
    "df.duplicated()"
   ]
  },
  {
   "cell_type": "code",
   "execution_count": 18,
   "id": "132a4b5d-7006-4b57-b6f1-98e2d45fc3a1",
   "metadata": {},
   "outputs": [
    {
     "data": {
      "text/plain": [
       "np.int64(0)"
      ]
     },
     "execution_count": 18,
     "metadata": {},
     "output_type": "execute_result"
    }
   ],
   "source": [
    "df.duplicated().sum()"
   ]
  },
  {
   "cell_type": "code",
   "execution_count": 15,
   "id": "04026cc4-96a7-4623-8c95-a1748e0916ad",
   "metadata": {},
   "outputs": [
    {
     "data": {
      "text/plain": [
       "invoice_id        0\n",
       "Branch            0\n",
       "City              0\n",
       "category          0\n",
       "unit_price        0\n",
       "quantity          0\n",
       "date              0\n",
       "time              0\n",
       "payment_method    0\n",
       "rating            0\n",
       "profit_margin     0\n",
       "dtype: int64"
      ]
     },
     "execution_count": 15,
     "metadata": {},
     "output_type": "execute_result"
    }
   ],
   "source": [
    "df.isnull().sum()"
   ]
  },
  {
   "cell_type": "code",
   "execution_count": 20,
   "id": "49f081d4-1f5a-46c7-8f90-123d3a3a04d2",
   "metadata": {},
   "outputs": [
    {
     "data": {
      "text/plain": [
       "(9969, 11)"
      ]
     },
     "execution_count": 20,
     "metadata": {},
     "output_type": "execute_result"
    }
   ],
   "source": [
    "df.shape"
   ]
  },
  {
   "cell_type": "code",
   "execution_count": 22,
   "id": "da753d9e-ddb0-479f-ac11-73600aec2e77",
   "metadata": {},
   "outputs": [
    {
     "data": {
      "text/plain": [
       "invoice_id          int64\n",
       "Branch             object\n",
       "City               object\n",
       "category           object\n",
       "unit_price         object\n",
       "quantity          float64\n",
       "date               object\n",
       "time               object\n",
       "payment_method     object\n",
       "rating            float64\n",
       "profit_margin     float64\n",
       "dtype: object"
      ]
     },
     "execution_count": 22,
     "metadata": {},
     "output_type": "execute_result"
    }
   ],
   "source": [
    "df.dtypes"
   ]
  },
  {
   "cell_type": "code",
   "execution_count": 25,
   "id": "bbcc6d55-6d64-4177-9eea-800fc39c6acc",
   "metadata": {},
   "outputs": [],
   "source": [
    "df['unit_price']=df['unit_price'].str.replace('$','').astype(float)"
   ]
  },
  {
   "cell_type": "code",
   "execution_count": 26,
   "id": "5a4ff36c-6377-4f2f-93f5-f43065f8337e",
   "metadata": {},
   "outputs": [
    {
     "data": {
      "text/html": [
       "<div>\n",
       "<style scoped>\n",
       "    .dataframe tbody tr th:only-of-type {\n",
       "        vertical-align: middle;\n",
       "    }\n",
       "\n",
       "    .dataframe tbody tr th {\n",
       "        vertical-align: top;\n",
       "    }\n",
       "\n",
       "    .dataframe thead th {\n",
       "        text-align: right;\n",
       "    }\n",
       "</style>\n",
       "<table border=\"1\" class=\"dataframe\">\n",
       "  <thead>\n",
       "    <tr style=\"text-align: right;\">\n",
       "      <th></th>\n",
       "      <th>invoice_id</th>\n",
       "      <th>Branch</th>\n",
       "      <th>City</th>\n",
       "      <th>category</th>\n",
       "      <th>unit_price</th>\n",
       "      <th>quantity</th>\n",
       "      <th>date</th>\n",
       "      <th>time</th>\n",
       "      <th>payment_method</th>\n",
       "      <th>rating</th>\n",
       "      <th>profit_margin</th>\n",
       "    </tr>\n",
       "  </thead>\n",
       "  <tbody>\n",
       "    <tr>\n",
       "      <th>0</th>\n",
       "      <td>1</td>\n",
       "      <td>WALM003</td>\n",
       "      <td>San Antonio</td>\n",
       "      <td>Health and beauty</td>\n",
       "      <td>74.69</td>\n",
       "      <td>7.0</td>\n",
       "      <td>05/01/19</td>\n",
       "      <td>13:08:00</td>\n",
       "      <td>Ewallet</td>\n",
       "      <td>9.1</td>\n",
       "      <td>0.48</td>\n",
       "    </tr>\n",
       "    <tr>\n",
       "      <th>1</th>\n",
       "      <td>2</td>\n",
       "      <td>WALM048</td>\n",
       "      <td>Harlingen</td>\n",
       "      <td>Electronic accessories</td>\n",
       "      <td>15.28</td>\n",
       "      <td>5.0</td>\n",
       "      <td>08/03/19</td>\n",
       "      <td>10:29:00</td>\n",
       "      <td>Cash</td>\n",
       "      <td>9.6</td>\n",
       "      <td>0.48</td>\n",
       "    </tr>\n",
       "    <tr>\n",
       "      <th>2</th>\n",
       "      <td>3</td>\n",
       "      <td>WALM067</td>\n",
       "      <td>Haltom City</td>\n",
       "      <td>Home and lifestyle</td>\n",
       "      <td>46.33</td>\n",
       "      <td>7.0</td>\n",
       "      <td>03/03/19</td>\n",
       "      <td>13:23:00</td>\n",
       "      <td>Credit card</td>\n",
       "      <td>7.4</td>\n",
       "      <td>0.33</td>\n",
       "    </tr>\n",
       "    <tr>\n",
       "      <th>3</th>\n",
       "      <td>4</td>\n",
       "      <td>WALM064</td>\n",
       "      <td>Bedford</td>\n",
       "      <td>Health and beauty</td>\n",
       "      <td>58.22</td>\n",
       "      <td>8.0</td>\n",
       "      <td>27/01/19</td>\n",
       "      <td>20:33:00</td>\n",
       "      <td>Ewallet</td>\n",
       "      <td>8.4</td>\n",
       "      <td>0.33</td>\n",
       "    </tr>\n",
       "    <tr>\n",
       "      <th>4</th>\n",
       "      <td>5</td>\n",
       "      <td>WALM013</td>\n",
       "      <td>Irving</td>\n",
       "      <td>Sports and travel</td>\n",
       "      <td>86.31</td>\n",
       "      <td>7.0</td>\n",
       "      <td>08/02/19</td>\n",
       "      <td>10:37:00</td>\n",
       "      <td>Ewallet</td>\n",
       "      <td>5.3</td>\n",
       "      <td>0.48</td>\n",
       "    </tr>\n",
       "  </tbody>\n",
       "</table>\n",
       "</div>"
      ],
      "text/plain": [
       "   invoice_id   Branch         City                category  unit_price  \\\n",
       "0           1  WALM003  San Antonio       Health and beauty       74.69   \n",
       "1           2  WALM048    Harlingen  Electronic accessories       15.28   \n",
       "2           3  WALM067  Haltom City      Home and lifestyle       46.33   \n",
       "3           4  WALM064      Bedford       Health and beauty       58.22   \n",
       "4           5  WALM013       Irving       Sports and travel       86.31   \n",
       "\n",
       "   quantity      date      time payment_method  rating  profit_margin  \n",
       "0       7.0  05/01/19  13:08:00        Ewallet     9.1           0.48  \n",
       "1       5.0  08/03/19  10:29:00           Cash     9.6           0.48  \n",
       "2       7.0  03/03/19  13:23:00    Credit card     7.4           0.33  \n",
       "3       8.0  27/01/19  20:33:00        Ewallet     8.4           0.33  \n",
       "4       7.0  08/02/19  10:37:00        Ewallet     5.3           0.48  "
      ]
     },
     "execution_count": 26,
     "metadata": {},
     "output_type": "execute_result"
    }
   ],
   "source": [
    "df.head()"
   ]
  },
  {
   "cell_type": "code",
   "execution_count": 27,
   "id": "926e2aeb-5612-46be-a166-544419a0a383",
   "metadata": {},
   "outputs": [
    {
     "name": "stdout",
     "output_type": "stream",
     "text": [
      "<class 'pandas.core.frame.DataFrame'>\n",
      "RangeIndex: 9969 entries, 0 to 9968\n",
      "Data columns (total 11 columns):\n",
      " #   Column          Non-Null Count  Dtype  \n",
      "---  ------          --------------  -----  \n",
      " 0   invoice_id      9969 non-null   int64  \n",
      " 1   Branch          9969 non-null   object \n",
      " 2   City            9969 non-null   object \n",
      " 3   category        9969 non-null   object \n",
      " 4   unit_price      9969 non-null   float64\n",
      " 5   quantity        9969 non-null   float64\n",
      " 6   date            9969 non-null   object \n",
      " 7   time            9969 non-null   object \n",
      " 8   payment_method  9969 non-null   object \n",
      " 9   rating          9969 non-null   float64\n",
      " 10  profit_margin   9969 non-null   float64\n",
      "dtypes: float64(4), int64(1), object(6)\n",
      "memory usage: 856.8+ KB\n"
     ]
    }
   ],
   "source": [
    "df.info()"
   ]
  },
  {
   "cell_type": "code",
   "execution_count": 29,
   "id": "c66a4187-14a8-4e3c-9976-7a50c83daf80",
   "metadata": {},
   "outputs": [
    {
     "data": {
      "text/plain": [
       "Index(['invoice_id', 'Branch', 'City', 'category', 'unit_price', 'quantity',\n",
       "       'date', 'time', 'payment_method', 'rating', 'profit_margin'],\n",
       "      dtype='object')"
      ]
     },
     "execution_count": 29,
     "metadata": {},
     "output_type": "execute_result"
    }
   ],
   "source": [
    "df.columns"
   ]
  },
  {
   "cell_type": "code",
   "execution_count": 34,
   "id": "39ab5231-2e1f-45e4-9396-f6affb8461e0",
   "metadata": {},
   "outputs": [],
   "source": [
    "df['total']=df['unit_price']*df['quantity']"
   ]
  },
  {
   "cell_type": "code",
   "execution_count": 35,
   "id": "524164e1-c595-4f05-bf39-11c8a34983e4",
   "metadata": {},
   "outputs": [
    {
     "data": {
      "text/html": [
       "<div>\n",
       "<style scoped>\n",
       "    .dataframe tbody tr th:only-of-type {\n",
       "        vertical-align: middle;\n",
       "    }\n",
       "\n",
       "    .dataframe tbody tr th {\n",
       "        vertical-align: top;\n",
       "    }\n",
       "\n",
       "    .dataframe thead th {\n",
       "        text-align: right;\n",
       "    }\n",
       "</style>\n",
       "<table border=\"1\" class=\"dataframe\">\n",
       "  <thead>\n",
       "    <tr style=\"text-align: right;\">\n",
       "      <th></th>\n",
       "      <th>invoice_id</th>\n",
       "      <th>Branch</th>\n",
       "      <th>City</th>\n",
       "      <th>category</th>\n",
       "      <th>unit_price</th>\n",
       "      <th>quantity</th>\n",
       "      <th>date</th>\n",
       "      <th>time</th>\n",
       "      <th>payment_method</th>\n",
       "      <th>rating</th>\n",
       "      <th>profit_margin</th>\n",
       "      <th>total</th>\n",
       "    </tr>\n",
       "  </thead>\n",
       "  <tbody>\n",
       "    <tr>\n",
       "      <th>0</th>\n",
       "      <td>1</td>\n",
       "      <td>WALM003</td>\n",
       "      <td>San Antonio</td>\n",
       "      <td>Health and beauty</td>\n",
       "      <td>74.69</td>\n",
       "      <td>7.0</td>\n",
       "      <td>05/01/19</td>\n",
       "      <td>13:08:00</td>\n",
       "      <td>Ewallet</td>\n",
       "      <td>9.1</td>\n",
       "      <td>0.48</td>\n",
       "      <td>522.83</td>\n",
       "    </tr>\n",
       "    <tr>\n",
       "      <th>1</th>\n",
       "      <td>2</td>\n",
       "      <td>WALM048</td>\n",
       "      <td>Harlingen</td>\n",
       "      <td>Electronic accessories</td>\n",
       "      <td>15.28</td>\n",
       "      <td>5.0</td>\n",
       "      <td>08/03/19</td>\n",
       "      <td>10:29:00</td>\n",
       "      <td>Cash</td>\n",
       "      <td>9.6</td>\n",
       "      <td>0.48</td>\n",
       "      <td>76.40</td>\n",
       "    </tr>\n",
       "    <tr>\n",
       "      <th>2</th>\n",
       "      <td>3</td>\n",
       "      <td>WALM067</td>\n",
       "      <td>Haltom City</td>\n",
       "      <td>Home and lifestyle</td>\n",
       "      <td>46.33</td>\n",
       "      <td>7.0</td>\n",
       "      <td>03/03/19</td>\n",
       "      <td>13:23:00</td>\n",
       "      <td>Credit card</td>\n",
       "      <td>7.4</td>\n",
       "      <td>0.33</td>\n",
       "      <td>324.31</td>\n",
       "    </tr>\n",
       "    <tr>\n",
       "      <th>3</th>\n",
       "      <td>4</td>\n",
       "      <td>WALM064</td>\n",
       "      <td>Bedford</td>\n",
       "      <td>Health and beauty</td>\n",
       "      <td>58.22</td>\n",
       "      <td>8.0</td>\n",
       "      <td>27/01/19</td>\n",
       "      <td>20:33:00</td>\n",
       "      <td>Ewallet</td>\n",
       "      <td>8.4</td>\n",
       "      <td>0.33</td>\n",
       "      <td>465.76</td>\n",
       "    </tr>\n",
       "    <tr>\n",
       "      <th>4</th>\n",
       "      <td>5</td>\n",
       "      <td>WALM013</td>\n",
       "      <td>Irving</td>\n",
       "      <td>Sports and travel</td>\n",
       "      <td>86.31</td>\n",
       "      <td>7.0</td>\n",
       "      <td>08/02/19</td>\n",
       "      <td>10:37:00</td>\n",
       "      <td>Ewallet</td>\n",
       "      <td>5.3</td>\n",
       "      <td>0.48</td>\n",
       "      <td>604.17</td>\n",
       "    </tr>\n",
       "  </tbody>\n",
       "</table>\n",
       "</div>"
      ],
      "text/plain": [
       "   invoice_id   Branch         City                category  unit_price  \\\n",
       "0           1  WALM003  San Antonio       Health and beauty       74.69   \n",
       "1           2  WALM048    Harlingen  Electronic accessories       15.28   \n",
       "2           3  WALM067  Haltom City      Home and lifestyle       46.33   \n",
       "3           4  WALM064      Bedford       Health and beauty       58.22   \n",
       "4           5  WALM013       Irving       Sports and travel       86.31   \n",
       "\n",
       "   quantity      date      time payment_method  rating  profit_margin   total  \n",
       "0       7.0  05/01/19  13:08:00        Ewallet     9.1           0.48  522.83  \n",
       "1       5.0  08/03/19  10:29:00           Cash     9.6           0.48   76.40  \n",
       "2       7.0  03/03/19  13:23:00    Credit card     7.4           0.33  324.31  \n",
       "3       8.0  27/01/19  20:33:00        Ewallet     8.4           0.33  465.76  \n",
       "4       7.0  08/02/19  10:37:00        Ewallet     5.3           0.48  604.17  "
      ]
     },
     "execution_count": 35,
     "metadata": {},
     "output_type": "execute_result"
    }
   ],
   "source": [
    "df.head()"
   ]
  },
  {
   "cell_type": "code",
   "execution_count": null,
   "id": "afa4ed4b-2f38-41ee-b50f-d17cef05ad0b",
   "metadata": {},
   "outputs": [],
   "source": []
  }
 ],
 "metadata": {
  "kernelspec": {
   "display_name": "Python 3 (ipykernel)",
   "language": "python",
   "name": "python3"
  },
  "language_info": {
   "codemirror_mode": {
    "name": "ipython",
    "version": 3
   },
   "file_extension": ".py",
   "mimetype": "text/x-python",
   "name": "python",
   "nbconvert_exporter": "python",
   "pygments_lexer": "ipython3",
   "version": "3.13.5"
  }
 },
 "nbformat": 4,
 "nbformat_minor": 5
}
